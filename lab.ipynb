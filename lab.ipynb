{
 "cells": [
  {
   "cell_type": "markdown",
   "metadata": {},
   "source": []
  },
  {
   "cell_type": "code",
   "execution_count": 1,
   "metadata": {},
   "outputs": [],
   "source": [
    "import random"
   ]
  },
  {
   "cell_type": "code",
   "execution_count": 6,
   "metadata": {},
   "outputs": [
    {
     "ename": "SyntaxError",
     "evalue": "invalid syntax. Perhaps you forgot a comma? (3609474352.py, line 2)",
     "output_type": "error",
     "traceback": [
      "\u001b[0;36m  Cell \u001b[0;32mIn[6], line 2\u001b[0;36m\u001b[0m\n\u001b[0;31m    random.shuffle(list[])\u001b[0m\n\u001b[0m                   ^\u001b[0m\n\u001b[0;31mSyntaxError\u001b[0m\u001b[0;31m:\u001b[0m invalid syntax. Perhaps you forgot a comma?\n"
     ]
    }
   ],
   "source": [
    "list = [[1,2,3],[4,5,6],[7,8,9]]\n",
    "random.shuffle(list)\n",
    "list\n",
    "pictures_1 = random.shuffle([[\"G5/images/noise_1.png\",\"DOMANDA\"],[\"G5/images/noise_2.png\",\"DOMANDA\"],[\"G5/images/noise_3.png\",\"DOMANDA\"]])\n"
   ]
  },
  {
   "cell_type": "code",
   "execution_count": 28,
   "metadata": {},
   "outputs": [
    {
     "data": {
      "text/plain": [
       "[['e', 'DOMANDA'],\n",
       " ['G5/images/noise_1.png', 'DOMANDA'],\n",
       " ['G5/images/noise_2.png', 'DOMANDA']]"
      ]
     },
     "execution_count": 28,
     "metadata": {},
     "output_type": "execute_result"
    }
   ],
   "source": [
    "pictures_1 = [[\"G5/images/noise_1.png\",\"DOMANDA\"],[\"G5/images/noise_2.png\",\"DOMANDA\"],[\"G5/images/noise_3.png\",\"DOMANDA\"]]\n",
    "random.shuffle(pictures_1)\n",
    "\n",
    "pictures_1[0][0] =\"e\"\n",
    "pictures_1"
   ]
  },
  {
   "cell_type": "code",
   "execution_count": 36,
   "metadata": {},
   "outputs": [
    {
     "data": {
      "text/plain": [
       "'noise_5'"
      ]
     },
     "execution_count": 36,
     "metadata": {},
     "output_type": "execute_result"
    }
   ],
   "source": [
    "s ='G5/images/noise_5.png'\n",
    "s[10:-4]"
   ]
  },
  {
   "cell_type": "code",
   "execution_count": 42,
   "metadata": {},
   "outputs": [
    {
     "data": {
      "text/plain": [
       "'PROVA'"
      ]
     },
     "execution_count": 42,
     "metadata": {},
     "output_type": "execute_result"
    }
   ],
   "source": [
    "i =\"noise_4\"\n",
    "\n",
    "\n",
    "dict = {\"noise_4\":\"PROVA\",\n",
    "        \"noise_5\":\"PROVA2\",\n",
    "        \"noise_6\":\"PROVA3\"\n",
    "        }\n",
    "\n",
    "\n",
    "dict[\"noise_4\"]"
   ]
  },
  {
   "cell_type": "code",
   "execution_count": 25,
   "metadata": {},
   "outputs": [
    {
     "data": {
      "text/plain": [
       "'G5/images/negative_.png'"
      ]
     },
     "execution_count": 25,
     "metadata": {},
     "output_type": "execute_result"
    }
   ],
   "source": [
    "treatment = \"negative\"\n",
    "\"G5/images/\"+treatment+\"_\"+\".png\""
   ]
  }
 ],
 "metadata": {
  "kernelspec": {
   "display_name": "data",
   "language": "python",
   "name": "python3"
  },
  "language_info": {
   "codemirror_mode": {
    "name": "ipython",
    "version": 3
   },
   "file_extension": ".py",
   "mimetype": "text/x-python",
   "name": "python",
   "nbconvert_exporter": "python",
   "pygments_lexer": "ipython3",
   "version": "3.10.9"
  }
 },
 "nbformat": 4,
 "nbformat_minor": 2
}
